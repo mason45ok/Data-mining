{
 "cells": [
  {
   "cell_type": "code",
   "execution_count": 24,
   "metadata": {
    "metadata": {}
   },
   "outputs": [],
   "source": [
    "import csv\n",
    "import json\n",
    "\n",
    "def convert_to_jsonl(data):\n",
    "    jsonl_list = []\n",
    "    for i in range(0, len(data), 2):\n",
    "        input = data[i]\n",
    "        output = data[i+1]\n",
    "        jsonl_list.append({\"input\": input, \"output\": output})\n",
    "    return jsonl_list\n",
    "\n",
    "def save_jsonl(jsonl_list, filename):\n",
    "    with open(filename, 'w', encoding='utf-8') as f:\n",
    "        for item in jsonl_list:\n",
    "            f.write(json.dumps(item, ensure_ascii=False) + '\\n')\n",
    "\n",
    "def read_csv_to_data(filename):\n",
    "    data = []\n",
    "    with open(filename, 'r', encoding='utf-8') as csvfile:\n",
    "        csvreader = csv.reader(csvfile)\n",
    "        for row in csvreader:\n",
    "            input, output = row[1], row[0]\n",
    "            data.append(input)\n",
    "            data.append(output)\n",
    "    return data\n",
    "\n",
    "csv_filename = '機車法規選擇題-中文.csv'\n",
    "data = read_csv_to_data(csv_filename)\n",
    "jsonl_data = convert_to_jsonl(data)\n",
    "save_jsonl(jsonl_data, 'output.jsonl')"
   ]
  }
 ],
 "metadata": {
  "kernelspec": {
   "display_name": "Python 3",
   "language": "python",
   "name": "python3"
  },
  "language_info": {
   "codemirror_mode": {
    "name": "ipython",
    "version": 3
   },
   "file_extension": ".py",
   "mimetype": "text/x-python",
   "name": "python",
   "nbconvert_exporter": "python",
   "pygments_lexer": "ipython3",
   "version": "3.11.9"
  }
 },
 "nbformat": 4,
 "nbformat_minor": 2
}
