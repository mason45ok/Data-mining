{
 "cells": [
  {
   "cell_type": "code",
   "execution_count": 1,
   "metadata": {},
   "outputs": [
    {
     "name": "stdout",
     "output_type": "stream",
     "text": [
      "{'choices': [{'content_filter_results': {'hate': {'filtered': False, 'severity': 'safe'}, 'self_harm': {'filtered': False, 'severity': 'safe'}, 'sexual': {'filtered': False, 'severity': 'safe'}, 'violence': {'filtered': False, 'severity': 'safe'}}, 'finish_reason': 'stop', 'index': 0, 'logprobs': None, 'message': {'content': '以下是根據 c1 的評分推薦的餐廳清單：\\n\\n```json\\n[\\n  {\\n    \"restaurantId\": \"r1\",\\n    \"predictedRating\": 2.0\\n  },\\n  {\\n    \"restaurantId\": \"r4\",\\n    \"predictedRating\": 2.0\\n  }\\n]\\n```\\n\\n解釋：根據 c1 的評分歷史，我們可以找出和他評分相似的其他使用者，然後根據這些使用者對 r1 和 r4 的評分，預測 c1 對這兩家餐廳的評分。最後，根據預測評分的高低，推薦評分較高的餐廳。', 'role': 'assistant'}}], 'created': 1711188872, 'id': 'chatcmpl-95sgS9pz0kIYnG5enfAh9LBCXx58U', 'model': 'gpt-35-turbo', 'object': 'chat.completion', 'prompt_filter_results': [{'prompt_index': 0, 'content_filter_results': {'hate': {'filtered': False, 'severity': 'safe'}, 'self_harm': {'filtered': False, 'severity': 'safe'}, 'sexual': {'filtered': False, 'severity': 'safe'}, 'violence': {'filtered': False, 'severity': 'safe'}}}], 'system_fingerprint': None, 'usage': {'completion_tokens': 204, 'prompt_tokens': 272, 'total_tokens': 476}}\n"
     ]
    }
   ],
   "source": [
    "import requests\n",
    "import json\n",
    "\n",
    "# 設定 Azure OpenAI 端點 URL\n",
    "url = \"https://data-mining-openai.openai.azure.com/openai/deployments/Data-mining-GPT3/chat/completions?api-version=2024-02-15-preview\"\n",
    "\n",
    "# 設定 API 金鑰\n",
    "api_key = \"Your Key\"\n",
    "\n",
    "# 設定請求中的 JSON 數據\n",
    "payload = {\n",
    "    \"messages\": [\n",
    "        {\"role\": \"system\", \"content\": \"根據 `` 中提供的 rating.csv 資料，用協同過濾的概念推薦餐廳給使用者 ，請以 json array 格式回答\\n\\`\\ncustomerId,restaurantId,rating\\nc1,r2,3\\nc1,r3,1\\nc1,r5,3\\nc1,r6,2\\nc2,r1,3\\nc2,r3,1\\nc2,r5,1\\nc2,r6,1\\nc3,r4,3\\nc3,r5,3\\nc3,r6,3\\nc4,r1,1\\nc4,r4,1\\nc4,r5,3\\nc5,r2,1\\nc5,r3,2\\nc5,r4,3\\nc6,r2,3\\nc6,r3,3\\nc6,r5,3\\nc7,r2,3\\nc7,r3,3\\nc7,r4,1\\nc8,r1,2\\nc8,r2,1\\nc8,r5,1\\nc8,r6,2\\n`\"},\n",
    "        {\"role\": \"user\", \"content\": \"c1\"}\n",
    "    ],\n",
    "    \"max_tokens\": 800,\n",
    "    \"temperature\": 0.5,\n",
    "    \"frequency_penalty\": 0,\n",
    "    \"presence_penalty\": 0,\n",
    "    \"top_p\": 0.95,\n",
    "    \"stop\": None\n",
    "}\n",
    "\n",
    "# 設定請求頭\n",
    "headers = {\n",
    "    \"Content-Type\": \"application/json\",\n",
    "    \"api-key\": api_key\n",
    "}\n",
    "\n",
    "# 發送 POST 請求\n",
    "response = requests.post(url, headers=headers, json=payload)\n",
    "\n",
    "# 打印回應\n",
    "print(response.json())\n"
   ]
  }
 ],
 "metadata": {
  "kernelspec": {
   "display_name": "Python 3",
   "language": "python",
   "name": "python3"
  },
  "language_info": {
   "codemirror_mode": {
    "name": "ipython",
    "version": 3
   },
   "file_extension": ".py",
   "mimetype": "text/x-python",
   "name": "python",
   "nbconvert_exporter": "python",
   "pygments_lexer": "ipython3",
   "version": "3.11.8"
  }
 },
 "nbformat": 4,
 "nbformat_minor": 2
}
