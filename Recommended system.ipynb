{
 "cells": [
  {
   "cell_type": "code",
   "execution_count": 1,
   "metadata": {},
   "outputs": [
    {
     "name": "stdout",
     "output_type": "stream",
     "text": [
      "{'id': 'chatcmpl-94jtMOxsYOEnybnLBshSgZNnf6YRf', 'object': 'chat.completion', 'created': 1710916748, 'model': 'gpt-35-turbo', 'prompt_filter_results': [{'prompt_index': 0, 'content_filter_results': {'hate': {'filtered': False, 'severity': 'safe'}, 'self_harm': {'filtered': False, 'severity': 'safe'}, 'sexual': {'filtered': False, 'severity': 'safe'}, 'violence': {'filtered': False, 'severity': 'safe'}}}], 'choices': [{'finish_reason': 'stop', 'index': 0, 'message': {'role': 'assistant', 'content': '根據協同過濾的概念，我們會找出和 c1 有相似評分紀錄的其他使用者，然後根據這些使用者對其他餐廳的評分，推薦給 c1 尚未評分過但有高評價的餐廳。假設我們選用歐式距離作為相似度的度量，我們可以計算出 c1 和其他使用者的距離如下：\\n\\n- c2: 2.45\\n- c3: 3.46\\n- c4: 3.00\\n- c5: 2.83\\n- c6: 2.00\\n- c7: 2.00\\n- c8: 2.24\\n\\n因此，我們可以選擇和 c1 最相似的使用者 c6 和 c7，然後根據他們的評分推薦餐廳給 c1。假設我們選擇推薦前 3 名餐廳，並且只推薦 c6 和 c7 兩位使用者都評價過的餐廳，則推薦結果如下：\\n\\n```\\n[\\n  {\"restaurantId\": \"r3\", \"rating\": 3},\\n  {\"restaurantId\": \"r5\", \"rating\": 3},\\n  {\"restaurantId\": \"r2\", \"rating\": 3}\\n]\\n```\\n\\n注意，這個推薦結果只是其中一種可能的結果，如果我們選用其他的相似度度量或是推薦策略，可能會得到不同的結果。'}, 'content_filter_results': {'hate': {'filtered': False, 'severity': 'safe'}, 'self_harm': {'filtered': False, 'severity': 'safe'}, 'sexual': {'filtered': False, 'severity': 'safe'}, 'violence': {'filtered': False, 'severity': 'safe'}}, 'logprobs': None}], 'usage': {'prompt_tokens': 272, 'completion_tokens': 455, 'total_tokens': 727}}\n"
     ]
    }
   ],
   "source": [
    "import requests\n",
    "import json\n",
    "\n",
    "# 設定 Azure OpenAI 端點 URL\n",
    "url = \"https://data-mining-openai.openai.azure.com/openai/deployments/Data-mining-GPT3/chat/completions?api-version=2024-02-15-preview\"\n",
    "\n",
    "# 設定 API 金鑰\n",
    "api_key = \"Your Key\"\n",
    "\n",
    "# 設定請求中的 JSON 數據\n",
    "payload = {\n",
    "    \"messages\": [\n",
    "        {\"role\": \"system\", \"content\": \"根據 `` 中提供的 rating.csv 資料，用協同過濾的概念推薦餐廳給使用者 ，請以 json array 格式回答\\n\\`\\ncustomerId,restaurantId,rating\\nc1,r2,3\\nc1,r3,1\\nc1,r5,3\\nc1,r6,2\\nc2,r1,3\\nc2,r3,1\\nc2,r5,1\\nc2,r6,1\\nc3,r4,3\\nc3,r5,3\\nc3,r6,3\\nc4,r1,1\\nc4,r4,1\\nc4,r5,3\\nc5,r2,1\\nc5,r3,2\\nc5,r4,3\\nc6,r2,3\\nc6,r3,3\\nc6,r5,3\\nc7,r2,3\\nc7,r3,3\\nc7,r4,1\\nc8,r1,2\\nc8,r2,1\\nc8,r5,1\\nc8,r6,2\\n`\"},\n",
    "        {\"role\": \"user\", \"content\": \"c1\"}\n",
    "    ],\n",
    "    \"max_tokens\": 800,\n",
    "    \"temperature\": 0.5,\n",
    "    \"frequency_penalty\": 0,\n",
    "    \"presence_penalty\": 0,\n",
    "    \"top_p\": 0.95,\n",
    "    \"stop\": None\n",
    "}\n",
    "\n",
    "# 設定請求頭\n",
    "headers = {\n",
    "    \"Content-Type\": \"application/json\",\n",
    "    \"api-key\": api_key\n",
    "}\n",
    "\n",
    "# 發送 POST 請求\n",
    "response = requests.post(url, headers=headers, json=payload)\n",
    "\n",
    "# 打印回應\n",
    "print(response.json())\n"
   ]
  }
 ],
 "metadata": {
  "kernelspec": {
   "display_name": "Python 3",
   "language": "python",
   "name": "python3"
  },
  "language_info": {
   "codemirror_mode": {
    "name": "ipython",
    "version": 3
   },
   "file_extension": ".py",
   "mimetype": "text/x-python",
   "name": "python",
   "nbconvert_exporter": "python",
   "pygments_lexer": "ipython3",
   "version": "3.11.8"
  }
 },
 "nbformat": 4,
 "nbformat_minor": 2
}
