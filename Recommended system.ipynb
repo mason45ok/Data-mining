{
 "cells": [
  {
   "cell_type": "code",
   "execution_count": 4,
   "metadata": {},
   "outputs": [
    {
     "name": "stdout",
     "output_type": "stream",
     "text": [
      "{'error': {'code': '404', 'message': 'Resource not found'}}\n"
     ]
    }
   ],
   "source": [
    "import requests\n",
    "import json\n",
    "\n",
    "# 設定 Azure OpenAI 端點 URL\n",
    "url = \"https://data-mining-openai.openai.azure.com/\"\n",
    "\n",
    "# 設定 API 金鑰\n",
    "api_key = \"Your API Key\"\n",
    "\n",
    "# 設定請求中的 JSON 數據\n",
    "payload = {\n",
    "    \"messages\": [\n",
    "        {\"role\": \"system\", \"content\": \"根據 `` 中提供的 rating.csv 資料，用協同過濾的概念推薦餐廳給使用者 ，請以 json array 格式回答\\n\\`\\ncustomerId,restaurantId,rating\\nc1,r2,3\\nc1,r3,1\\nc1,r5,3\\nc1,r6,2\\nc2,r1,3\\nc2,r3,1\\nc2,r5,1\\nc2,r6,1\\nc3,r4,3\\nc3,r5,3\\nc3,r6,3\\nc4,r1,1\\nc4,r4,1\\nc4,r5,3\\nc5,r2,1\\nc5,r3,2\\nc5,r4,3\\nc6,r2,3\\nc6,r3,3\\nc6,r5,3\\nc7,r2,3\\nc7,r3,3\\nc7,r4,1\\nc8,r1,2\\nc8,r2,1\\nc8,r5,1\\nc8,r6,2\\n`\"},\n",
    "        {\"role\": \"user\", \"content\": \"c1\"}\n",
    "    ],\n",
    "    \"max_tokens\": 800,\n",
    "    \"temperature\": 0.5,\n",
    "    \"frequency_penalty\": 0,\n",
    "    \"presence_penalty\": 0,\n",
    "    \"top_p\": 0.95,\n",
    "    \"stop\": None\n",
    "}\n",
    "\n",
    "# 設定請求頭\n",
    "headers = {\n",
    "    \"Content-Type\": \"application/json\",\n",
    "    \"api-key\": api_key\n",
    "}\n",
    "\n",
    "# 發送 POST 請求\n",
    "response = requests.post(url, headers=headers, json=payload)\n",
    "\n",
    "# 打印回應\n",
    "print(response.json())\n"
   ]
  }
 ],
 "metadata": {
  "kernelspec": {
   "display_name": "Python 3",
   "language": "python",
   "name": "python3"
  },
  "language_info": {
   "codemirror_mode": {
    "name": "ipython",
    "version": 3
   },
   "file_extension": ".py",
   "mimetype": "text/x-python",
   "name": "python",
   "nbconvert_exporter": "python",
   "pygments_lexer": "ipython3",
   "version": "3.11.8"
  }
 },
 "nbformat": 4,
 "nbformat_minor": 2
}
