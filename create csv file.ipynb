{
 "cells": [
  {
   "cell_type": "code",
   "execution_count": 1,
   "metadata": {},
   "outputs": [
    {
     "name": "stdout",
     "output_type": "stream",
     "text": [
      "rating.csv 檔案已生成。\n"
     ]
    }
   ],
   "source": [
    "import csv\n",
    "\n",
    "# 要生成的評分數據\n",
    "ratings = [\n",
    "    (\"c1\", \"r2\", 3),\n",
    "    (\"c1\", \"r3\", 1),\n",
    "    (\"c1\", \"r5\", 3),\n",
    "    (\"c1\", \"r6\", 2),\n",
    "    (\"c2\", \"r1\", 3),\n",
    "    (\"c2\", \"r3\", 1),\n",
    "    (\"c2\", \"r5\", 1),\n",
    "    (\"c2\", \"r6\", 1),\n",
    "    (\"c3\", \"r4\", 3),\n",
    "    (\"c3\", \"r5\", 3),\n",
    "    (\"c3\", \"r6\", 3),\n",
    "    (\"c4\", \"r1\", 1),\n",
    "    (\"c4\", \"r4\", 1),\n",
    "    (\"c4\", \"r5\", 3),\n",
    "    (\"c5\", \"r2\", 1),\n",
    "    (\"c5\", \"r3\", 2),\n",
    "    (\"c5\", \"r4\", 3),\n",
    "    (\"c6\", \"r2\", 3),\n",
    "    (\"c6\", \"r3\", 3),\n",
    "    (\"c6\", \"r5\", 3),\n",
    "    (\"c7\", \"r2\", 3),\n",
    "    (\"c7\", \"r3\", 3),\n",
    "    (\"c7\", \"r4\", 1),\n",
    "    (\"c8\", \"r1\", 2),\n",
    "    (\"c8\", \"r2\", 1),\n",
    "    (\"c8\", \"r5\", 1),\n",
    "    (\"c8\", \"r6\", 2)\n",
    "]\n",
    "\n",
    "# 寫入 CSV 檔案\n",
    "with open(\"rating.csv\", \"w\", newline=\"\") as csvfile:\n",
    "    writer = csv.writer(csvfile)\n",
    "    # 寫入標題行\n",
    "    writer.writerow([\"customerId\", \"restaurantId\", \"rating\"])\n",
    "    # 寫入評分數據\n",
    "    writer.writerows(ratings)\n",
    "\n",
    "print(\"rating.csv 檔案已生成。\")\n"
   ]
  }
 ],
 "metadata": {
  "kernelspec": {
   "display_name": "Python 3",
   "language": "python",
   "name": "python3"
  },
  "language_info": {
   "codemirror_mode": {
    "name": "ipython",
    "version": 3
   },
   "file_extension": ".py",
   "mimetype": "text/x-python",
   "name": "python",
   "nbconvert_exporter": "python",
   "pygments_lexer": "ipython3",
   "version": "3.11.9"
  }
 },
 "nbformat": 4,
 "nbformat_minor": 2
}
